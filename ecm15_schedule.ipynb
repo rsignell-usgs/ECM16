{
 "cells": [
  {
   "cell_type": "markdown",
   "metadata": {},
   "source": [
    "# ECM15 Schedule"
   ]
  },
  {
   "cell_type": "code",
   "execution_count": 1,
   "metadata": {},
   "outputs": [],
   "source": [
    "import datetime as dt\n",
    "import collections"
   ]
  },
  {
   "cell_type": "markdown",
   "metadata": {},
   "source": [
    "### Parameters"
   ]
  },
  {
   "cell_type": "code",
   "execution_count": 2,
   "metadata": {},
   "outputs": [],
   "source": [
    "# Length of each parameter in minutes\n",
    "welcome=15\n",
    "close=15\n",
    "break_am=30\n",
    "break_pm=30\n",
    "lunch=75\n",
    "plenary=35\n",
    "post_plenary=10\n",
    "talk=20\n",
    "poster=120\n",
    "\n",
    "#Start time\n",
    "day1_start=dt.datetime(2018,6,25,8,45)\n",
    "day2_start=dt.datetime(2018,6,26,9,0)\n",
    "day3_start=dt.datetime(2018,6,27,9,0)\n",
    "\n",
    "N_talks_per_session=3\n",
    "session=N_talks_per_session * talk\n"
   ]
  },
  {
   "cell_type": "markdown",
   "metadata": {},
   "source": [
    "### Day 1"
   ]
  },
  {
   "cell_type": "code",
   "execution_count": 3,
   "metadata": {},
   "outputs": [
    {
     "name": "stdout",
     "output_type": "stream",
     "text": [
      "     Welcome 08:45-09:00\n",
      "   Plenary_1 09:00-09:35\n",
      " Brief_break 09:35-09:45\n",
      "   Session_1 09:45-10:45\n",
      "    Break_am 10:45-11:15\n",
      "   Session_2 11:15-12:15\n",
      "       Lunch 12:15-13:30\n",
      "   Session_3 13:30-14:30\n",
      "    Break_pm 14:30-15:00\n",
      "   Session_4 15:00-16:00\n",
      "      Poster 16:00-18:00\n"
     ]
    }
   ],
   "source": [
    "#Define ordered dictionary of Day 1 events with corresponding length\n",
    "order = collections.OrderedDict(Welcome=welcome,Plenary_1=plenary,Brief_break=post_plenary,Session_1=session,\\\n",
    "                                Break_am=break_am,Session_2=session,Lunch=lunch,\\\n",
    "                                Session_3=session,Break_pm=break_pm,Session_4=session, \\\n",
    "                                Poster=poster)\n",
    "\n",
    "#Print timetable\n",
    "t0=day1_start\n",
    "for s in order:\n",
    "    t1=t0+dt.timedelta(minutes=order[s])\n",
    "    print('%12s %s-%s' %(s,t0.strftime('%H:%M'),t1.strftime('%H:%M')))\n",
    "    t0=t1\n"
   ]
  },
  {
   "cell_type": "markdown",
   "metadata": {},
   "source": [
    "### Day 2"
   ]
  },
  {
   "cell_type": "code",
   "execution_count": 4,
   "metadata": {},
   "outputs": [
    {
     "name": "stdout",
     "output_type": "stream",
     "text": [
      "   Plenary_2 09:00-09:35\n",
      " Brief_break 09:35-09:45\n",
      "   Session_5 09:45-10:45\n",
      "    Break_am 10:45-11:15\n",
      "   Session_6 11:15-12:15\n",
      "       Lunch 12:15-13:30\n",
      "   Session_7 13:30-14:30\n",
      "    Break_pm 14:30-15:00\n",
      "   Session_8 15:00-16:00\n"
     ]
    }
   ],
   "source": [
    "#Define ordered dictionary of Day 2 events with corresponding length\n",
    "order = collections.OrderedDict(Plenary_2=plenary,Brief_break=post_plenary,Session_5=session,\\\n",
    "                                Break_am=break_am,Session_6=session,Lunch=lunch,\\\n",
    "                                Session_7=session,Break_pm=break_pm,Session_8=session)\n",
    "\n",
    "#Print timetable\n",
    "t0=day2_start\n",
    "for s in order:\n",
    "    t1=t0+dt.timedelta(minutes=order[s])\n",
    "    print('%12s %s-%s' %(s,t0.strftime('%H:%M'),t1.strftime('%H:%M')))\n",
    "    t0=t1"
   ]
  },
  {
   "cell_type": "markdown",
   "metadata": {},
   "source": [
    "### Day 3"
   ]
  },
  {
   "cell_type": "code",
   "execution_count": 5,
   "metadata": {},
   "outputs": [
    {
     "name": "stdout",
     "output_type": "stream",
     "text": [
      "   Plenary_3 09:00-09:35\n",
      " Brief_break 09:35-09:45\n",
      "   Session_9 09:45-10:45\n",
      "    Break_am 10:45-11:15\n",
      "  Session_10 11:15-12:15\n",
      "       Lunch 12:15-13:30\n",
      "  Session_11 13:30-14:30\n",
      "    Break_pm 14:30-15:00\n",
      "  Session_12 15:00-16:00\n",
      "       Close 16:00-16:15\n"
     ]
    }
   ],
   "source": [
    "#Define ordered dictionary of Day 3 events with corresponding length\n",
    "order = collections.OrderedDict(Plenary_3=plenary,Brief_break=post_plenary,Session_9=session,\\\n",
    "                                Break_am=break_am,Session_10=session,Lunch=lunch,\\\n",
    "                                Session_11=session,Break_pm=break_pm,Session_12=session,Close=close)\n",
    "\n",
    "#Print timetable\n",
    "t0=day3_start\n",
    "for s in order:\n",
    "    t1=t0+dt.timedelta(minutes=order[s])\n",
    "    print('%12s %s-%s' %(s,t0.strftime('%H:%M'),t1.strftime('%H:%M')))\n",
    "    t0=t1"
   ]
  },
  {
   "cell_type": "code",
   "execution_count": 6,
   "metadata": {},
   "outputs": [
    {
     "name": "stdout",
     "output_type": "stream",
     "text": [
      "72\n"
     ]
    }
   ],
   "source": [
    "tracks_per_session = 2\n",
    "sessions = 12\n",
    "talks = sessions * N_talks_per_session * tracks_per_session\n",
    "print(talks)"
   ]
  },
  {
   "cell_type": "code",
   "execution_count": null,
   "metadata": {},
   "outputs": [],
   "source": []
  }
 ],
 "metadata": {
  "kernelspec": {
   "display_name": "Python [conda env:IOOS]",
   "language": "python",
   "name": "conda-env-IOOS-py"
  },
  "language_info": {
   "codemirror_mode": {
    "name": "ipython",
    "version": 3
   },
   "file_extension": ".py",
   "mimetype": "text/x-python",
   "name": "python",
   "nbconvert_exporter": "python",
   "pygments_lexer": "ipython3",
   "version": "3.6.4"
  }
 },
 "nbformat": 4,
 "nbformat_minor": 2
}
